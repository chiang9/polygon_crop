{
 "cells": [
  {
   "cell_type": "code",
   "execution_count": 1,
   "metadata": {},
   "outputs": [],
   "source": [
    "from polygon_crop.img_crop import *"
   ]
  },
  {
   "cell_type": "code",
   "execution_count": 2,
   "metadata": {},
   "outputs": [
    {
     "name": "stdout",
     "output_type": "stream",
     "text": [
      "click on x: 229 y: 17\n",
      "click on x: 164 y: 95\n",
      "click on x: 107 y: 153\n",
      "click on x: 191 y: 208\n",
      "click on x: 201 y: 158\n",
      "click on x: 231 y: 217\n",
      "click on x: 277 y: 217\n",
      "click on x: 278 y: 161\n",
      "click on x: 328 y: 222\n",
      "click on x: 380 y: 211\n",
      "click on x: 428 y: 139\n",
      "click on x: 405 y: 35\n",
      "click on x: 129 y: 29\n",
      "click on x: 55 y: 66\n"
     ]
    }
   ],
   "source": [
    "newIm = img_crop('Data/cat.jpg')"
   ]
  },
  {
   "cell_type": "code",
   "execution_count": 4,
   "metadata": {},
   "outputs": [
    {
     "data": {
      "text/plain": [
       "PIL.Image.Image"
      ]
     },
     "execution_count": 4,
     "metadata": {},
     "output_type": "execute_result"
    }
   ],
   "source": [
    "type(newIm)"
   ]
  }
 ],
 "metadata": {
  "kernelspec": {
   "display_name": "Python 3",
   "language": "python",
   "name": "python3"
  },
  "language_info": {
   "codemirror_mode": {
    "name": "ipython",
    "version": 3
   },
   "file_extension": ".py",
   "mimetype": "text/x-python",
   "name": "python",
   "nbconvert_exporter": "python",
   "pygments_lexer": "ipython3",
   "version": "3.6.10"
  }
 },
 "nbformat": 4,
 "nbformat_minor": 4
}
